{
 "cells": [
  {
   "cell_type": "markdown",
   "metadata": {},
   "source": [
    "# Algorithms Used in Sorting\n",
    "\n",
    "## O(n^2) Sorting Algorithms\n",
    "\n",
    "### Insertion Sort"
   ]
  },
  {
   "cell_type": "code",
   "execution_count": 1,
   "metadata": {
    "collapsed": true
   },
   "outputs": [],
   "source": [
    "def selection_sort(collection):\n",
    "    comparisons = 0\n",
    "    length = len(collection)\n",
    "    for i in range(length):\n",
    "        least = i\n",
    "        for k in range(i + 1, length):\n",
    "            comparisons += 1\n",
    "            if collection[k] < collection[least]:\n",
    "                least = k\n",
    "        collection[least], collection[i] = (\n",
    "            collection[i], collection[least]\n",
    "        )\n",
    "    return comparisons, collection"
   ]
  },
  {
   "cell_type": "markdown",
   "metadata": {},
   "source": [
    "### Selection Sort"
   ]
  },
  {
   "cell_type": "code",
   "execution_count": 4,
   "metadata": {
    "collapsed": true
   },
   "outputs": [],
   "source": [
    "def insertion_sort(collection):\n",
    "    comparisons = 0\n",
    "    for i in range(1, len(collection)):\n",
    "        tmp = collection[i]\n",
    "        k = i\n",
    "        while k > 0 and tmp < collection[k - 1]:\n",
    "            comparisons += 1;\n",
    "            collection[k] = collection[k - 1]\n",
    "            k -= 1\n",
    "        comparisons += 1;\n",
    "        collection[k] = tmp\n",
    "    return comparisons, collection"
   ]
  },
  {
   "cell_type": "markdown",
   "metadata": {},
   "source": [
    "### Bubble Sort"
   ]
  },
  {
   "cell_type": "code",
   "execution_count": 3,
   "metadata": {
    "collapsed": true
   },
   "outputs": [],
   "source": [
    "def bubble_sort(collection):\n",
    "    comparisons = 0\n",
    "    while True:\n",
    "        swapped = False\n",
    "        for i in range(1, len(collection)):\n",
    "            comparisons += 1\n",
    "            if collection[i-1] > collection[i]:\n",
    "                collection[i-1], collection[i] = collection[i], collection[i-1]\n",
    "                swapped = True\n",
    "        if not swapped:\n",
    "            break\n",
    "    return comparisons, collection"
   ]
  },
  {
   "cell_type": "markdown",
   "metadata": {},
   "source": [
    "## Shell Sort\n",
    "\n",
    "### Using Shell Gaps"
   ]
  },
  {
   "cell_type": "code",
   "execution_count": 5,
   "metadata": {
    "collapsed": true
   },
   "outputs": [],
   "source": [
    "def shell_sort(arr):\n",
    "    comparisons = 0\n",
    "    n = len(arr)\n",
    "    gap = int(n/2)\n",
    "    \n",
    "    while gap > 0:\n",
    " \n",
    "        for i in range(gap,n):\n",
    "            temp = arr[i]\n",
    "            \n",
    "            j = i\n",
    "            while  j >= gap and arr[j-gap] > temp:\n",
    "                comparisons += 1\n",
    "                arr[j] = arr[j-gap]\n",
    "                j -= gap\n",
    "            \n",
    "            arr[j] = temp\n",
    "            comparisons += 1\n",
    "        gap = int(gap/2)\n",
    "    \n",
    "    return comparisons"
   ]
  },
  {
   "cell_type": "markdown",
   "metadata": {},
   "source": [
    "### Using Ciura's Gap Sequence"
   ]
  },
  {
   "cell_type": "code",
   "execution_count": 6,
   "metadata": {
    "collapsed": true
   },
   "outputs": [],
   "source": [
    "def shell_sort_v1(array):\n",
    "    comparisons = 0\n",
    "    gaps = [701, 301, 132, 57, 23, 10, 4, 1]\n",
    "    \n",
    "    for gap in gaps:\n",
    "        \n",
    "        for i in range(gap, len(array)):\n",
    "            tmp = array[i]\n",
    "            \n",
    "            j = i\n",
    "            while j >= gap and tmp < array[j - gap]:\n",
    "                comparisons += 1\n",
    "                array[j] = array[j - gap]\n",
    "                j -= gap\n",
    "                \n",
    "            array[j] = tmp\n",
    "            comparisons += 1\n",
    "    \n",
    "    return comparisons, array"
   ]
  },
  {
   "cell_type": "markdown",
   "metadata": {},
   "source": [
    "## Bucket Sort"
   ]
  },
  {
   "cell_type": "code",
   "execution_count": 7,
   "metadata": {
    "collapsed": true
   },
   "outputs": [],
   "source": [
    "def bucket_sort(arr):\n",
    "    # get hash codes\n",
    "    comparisons = 0\n",
    "    code = hashing(arr)\n",
    "    buckets = [list() for _ in range(code[1])]\n",
    "    # distribute data into buckets\n",
    "    for i in arr:\n",
    "        x = re_hashing(i, code)\n",
    "        buck = buckets[x]\n",
    "        buck.append(i)\n",
    "\n",
    "    # Sort each bucket\n",
    "\n",
    "    for bucket in buckets:\n",
    "        comparisons += insertion_sort(bucket)[0]\n",
    "\n",
    "    ndx = 0\n",
    "    # merge the buckets\n",
    "    for b in range(len(buckets)):\n",
    "        for v in buckets[b]:\n",
    "            arr[ndx] = v\n",
    "            ndx += 1\n",
    "    \n",
    "    return comparisons, buckets\n",
    " \n",
    "def hashing(arr):\n",
    "    m = arr[0]\n",
    "    for i in range(1, len(arr)):\n",
    "        if (m < arr[i]):\n",
    "            m = arr[i]\n",
    "    result = [m, int(math.sqrt(len(arr)))]\n",
    "    return result\n",
    "\n",
    "def re_hashing(i, code):\n",
    "    return int(i / code[0] * (code[1] - 1))"
   ]
  },
  {
   "cell_type": "markdown",
   "metadata": {},
   "source": [
    "## Radix Sort\n",
    "\n",
    "### Counting Sort Subroutine"
   ]
  },
  {
   "cell_type": "code",
   "execution_count": 8,
   "metadata": {
    "collapsed": true
   },
   "outputs": [],
   "source": [
    "# A function to do counting sort of arr[] according to\n",
    "# the digit represented by exp.\n",
    "def counting_sort(arr, exp1):\n",
    "    accesses = 0\n",
    "    n = len(arr)\n",
    " \n",
    "    # The output array elements that will have sorted arr\n",
    "    output = [0] * (n)\n",
    " \n",
    "    # initialize count array as 0\n",
    "    count = [0] * (10)\n",
    " \n",
    "    # Store count of occurrences in count[]\n",
    "    for i in range(0, n):\n",
    "        accesses += 1\n",
    "        index = int((arr[i]/exp1))\n",
    "        count[ int((index)%10) ] += 1\n",
    "\n",
    "    # Change count[i] so that count[i] now contains actual\n",
    "    #  position of this digit in output array\n",
    "    for i in range(1,10):\n",
    "        count[i] += count[i-1]\n",
    " \n",
    "    # Build the output array\n",
    "    i = n-1\n",
    "    while i>=0:\n",
    "        accesses += 1\n",
    "        index = (arr[i]/exp1)\n",
    "        output[ count[ int((index)%10) ] - 1] = arr[i]\n",
    "        count[ int((index)%10) ] -= 1\n",
    "        i -= 1\n",
    " \n",
    "    # Copying the output array to arr[],\n",
    "    # so that arr now contains sorted numbers\n",
    "    i = 0\n",
    "    for i in range(0,len(arr)):\n",
    "        arr[i] = output[i]\n",
    "\n",
    "    return accesses"
   ]
  },
  {
   "cell_type": "markdown",
   "metadata": {},
   "source": [
    "### Insertion Sort Subroutine for Radix Sort"
   ]
  },
  {
   "cell_type": "code",
   "execution_count": 11,
   "metadata": {
    "collapsed": true
   },
   "outputs": [],
   "source": [
    "def insertion_sort_exp(collection, exp):\n",
    "    comparisons = 0\n",
    "    for i in range(1, len(collection)):\n",
    "        tmp = collection[i]\n",
    "        k = i\n",
    "        while k > 0 and int(tmp/exp) % 10 < int(collection[k-1]/exp) % 10:\n",
    "            comparisons += 1;\n",
    "            collection[k] = collection[k - 1]\n",
    "            k -= 1\n",
    "        comparisons += 1;\n",
    "        collection[k] = tmp\n",
    "    return comparisons, collection"
   ]
  },
  {
   "cell_type": "markdown",
   "metadata": {},
   "source": [
    "### Radix Sort using Counting Sort as Subroutine"
   ]
  },
  {
   "cell_type": "code",
   "execution_count": 9,
   "metadata": {
    "collapsed": true
   },
   "outputs": [],
   "source": [
    "def radix_sort_counting(arr):\n",
    "    accesses = 0\n",
    "    max1 = max(arr)\n",
    "    exp = 1\n",
    "    while int(max1/exp) > 0:\n",
    "        accesses += counting_sort(arr,exp)\n",
    "        exp *= 10\n",
    "    return accesses"
   ]
  },
  {
   "cell_type": "markdown",
   "metadata": {},
   "source": [
    "### Radix Sort using Insertion Sort as Subroutine"
   ]
  },
  {
   "cell_type": "code",
   "execution_count": 10,
   "metadata": {
    "collapsed": true
   },
   "outputs": [],
   "source": [
    "def radix_sort_insertion(arr):\n",
    "    accesses = 0\n",
    "    max1 = max(arr)\n",
    "    exp = 1\n",
    "    while int(max1/exp) > 0:\n",
    "        accesses += insertion_sort_exp(arr, exp)[0]\n",
    "        exp *= 10\n",
    "    return accesses"
   ]
  },
  {
   "cell_type": "markdown",
   "metadata": {},
   "source": [
    "## O(n log n) Algorithms"
   ]
  },
  {
   "cell_type": "markdown",
   "metadata": {},
   "source": [
    "### Merge Sort"
   ]
  },
  {
   "cell_type": "code",
   "execution_count": 13,
   "metadata": {
    "collapsed": true
   },
   "outputs": [],
   "source": [
    "# Merges two subarrays of arr[].\n",
    "# First subarray is arr[l..m]\n",
    "# Second subarray is arr[m+1..r]\n",
    "def merge(arr, l, m, r):\n",
    "    comparison = 0\n",
    "    n1 = m - l + 1\n",
    "    n2 = r- m\n",
    "    \n",
    "    # create temp arrays\n",
    "    L = [0] * (n1)\n",
    "    R = [0] * (n2)\n",
    " \n",
    "    # Copy data to temp arrays L[] and R[]\n",
    "    for i in range(0 , n1):\n",
    "        L[i] = arr[l + i]\n",
    " \n",
    "    for j in range(0 , n2):\n",
    "        R[j] = arr[m + 1 + j]\n",
    " \n",
    "    # Merge the temp arrays back into arr[l..r]\n",
    "    i = 0     # Initial index of first subarray\n",
    "    j = 0     # Initial index of second subarray\n",
    "    k = l     # Initial index of merged subarray\n",
    " \n",
    "    while i < n1 and j < n2:\n",
    "        if L[i] <= R[j]:\n",
    "            arr[k] = L[i]\n",
    "            i += 1\n",
    "        else:\n",
    "            arr[k] = R[j]\n",
    "            j += 1\n",
    "        comparison += 1\n",
    "        k += 1\n",
    " \n",
    "    # Copy the remaining elements of L[], if there\n",
    "    # are any\n",
    "    while i < n1:\n",
    "        arr[k] = L[i]\n",
    "        i += 1\n",
    "        k += 1\n",
    " \n",
    "    # Copy the remaining elements of R[], if there\n",
    "    # are any\n",
    "    while j < n2:\n",
    "        arr[k] = R[j]\n",
    "        j += 1\n",
    "        k += 1\n",
    "    \n",
    "    return comparison\n",
    "\n",
    "# l is for left index and r is right index of the\n",
    "# sub-array of arr to be sorted\n",
    "def merge_sort(arr,l,r):\n",
    "    comparison = 0;\n",
    "    if l < r:\n",
    " \n",
    "        # Same as (l+r)/2, but avoids overflow for\n",
    "        # large l and h\n",
    "        m = int((l+(r-1))/2)\n",
    " \n",
    "        # Sort first and second halves\n",
    "        comparison += merge_sort(arr, l, m)\n",
    "        comparison += merge_sort(arr, m+1, r)\n",
    "        comparison += merge(arr, l, m, r)\n",
    "    return comparison\n"
   ]
  },
  {
   "cell_type": "markdown",
   "metadata": {},
   "source": [
    "### Quick Sort"
   ]
  },
  {
   "cell_type": "code",
   "execution_count": 14,
   "metadata": {
    "collapsed": true
   },
   "outputs": [],
   "source": [
    "# This function takes last element as pivot, places\n",
    "# the pivot element at its correct position in sorted\n",
    "# array, and places all smaller (smaller than pivot)\n",
    "# to left of pivot and all greater elements to right\n",
    "# of pivot\n",
    "def partition(arr,low,high):\n",
    "    comparison = 0\n",
    "    i = ( low-1 )         # index of smaller element\n",
    "    pivot = arr[high]     # pivot\n",
    "    \n",
    "    for j in range(low , high):\n",
    "        comparison += 1\n",
    "        # If current element is smaller than or\n",
    "        # equal to pivot\n",
    "        if arr[j] <= pivot:\n",
    "            # increment index of smaller element\n",
    "            i = i+1\n",
    "            arr[i],arr[j] = arr[j],arr[i]\n",
    "        \n",
    "    arr[i+1],arr[high] = arr[high],arr[i+1]\n",
    "    return ( i+1 ), comparison\n",
    "\n",
    "# The main function that implements QuickSort\n",
    "# arr[] --> Array to be sorted,\n",
    "# low  --> Starting index,\n",
    "# high  --> Ending index\n",
    "\n",
    "# Function to do Quick sort\n",
    "def quick_sort(arr,low,high):\n",
    "    comparison = 0\n",
    "\n",
    "    if low < high:\n",
    "\n",
    "        # pi is partitioning index, arr[p] is now\n",
    "        # at right place\n",
    "        pi, comparison = partition(arr,low,high)\n",
    "\n",
    "        # Separately sort elements before\n",
    "        # partition and after partition\n",
    "        comparison += quick_sort(arr, low, pi-1)\n",
    "        comparison += quick_sort(arr, pi+1, high)\n",
    "        \n",
    "    return comparison"
   ]
  },
  {
   "cell_type": "code",
   "execution_count": null,
   "metadata": {
    "collapsed": true
   },
   "outputs": [],
   "source": []
  }
 ],
 "metadata": {
  "kernelspec": {
   "display_name": "Python 3",
   "language": "python",
   "name": "python3"
  },
  "language_info": {
   "codemirror_mode": {
    "name": "ipython",
    "version": 3
   },
   "file_extension": ".py",
   "mimetype": "text/x-python",
   "name": "python",
   "nbconvert_exporter": "python",
   "pygments_lexer": "ipython3",
   "version": "3.6.1"
  }
 },
 "nbformat": 4,
 "nbformat_minor": 2
}
